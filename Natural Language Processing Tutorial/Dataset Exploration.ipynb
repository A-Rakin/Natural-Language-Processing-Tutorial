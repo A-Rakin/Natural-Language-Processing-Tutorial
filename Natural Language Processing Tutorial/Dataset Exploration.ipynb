{
 "cells": [
  {
   "cell_type": "markdown",
   "id": "18c72365-7386-4952-ae65-223c1efd4616",
   "metadata": {},
   "source": [
    "# Method 1"
   ]
  },
  {
   "cell_type": "code",
   "execution_count": 18,
   "id": "24f0eac3-75d1-4769-9e29-3b77c2a1db34",
   "metadata": {},
   "outputs": [
    {
     "data": {
      "text/plain": [
       "'ham\\tGo until jurong point, crazy.. Available only in bugis n great world la e buffet... Cine there g'"
      ]
     },
     "execution_count": 18,
     "metadata": {},
     "output_type": "execute_result"
    }
   ],
   "source": [
    "raw_data = open('SMSSpamCollection').read()\n",
    "raw_data[0:100]"
   ]
  },
  {
   "cell_type": "code",
   "execution_count": 19,
   "id": "e5133d3e-ac1c-499c-a525-3df64dc3107b",
   "metadata": {},
   "outputs": [
    {
     "data": {
      "text/plain": [
       "['ham',\n",
       " 'Go until jurong point, crazy.. Available only in bugis n great world la e buffet... Cine there got amore wat...',\n",
       " 'ham',\n",
       " 'Ok lar... Joking wif u oni...',\n",
       " 'spam']"
      ]
     },
     "execution_count": 19,
     "metadata": {},
     "output_type": "execute_result"
    }
   ],
   "source": [
    "parsed_data = raw_data.replace('\\t','\\n').split('\\n')\n",
    "parsed_data[0:5]"
   ]
  },
  {
   "cell_type": "code",
   "execution_count": 20,
   "id": "d673326a-6a9e-467a-8041-40ad59e20b30",
   "metadata": {},
   "outputs": [
    {
     "name": "stdout",
     "output_type": "stream",
     "text": [
      "['ham', 'ham', 'spam', 'ham', 'ham']\n",
      "['Go until jurong point, crazy.. Available only in bugis n great world la e buffet... Cine there got amore wat...', 'Ok lar... Joking wif u oni...', \"Free entry in 2 a wkly comp to win FA Cup final tkts 21st May 2005. Text FA to 87121 to receive entry question(std txt rate)T&C's apply 08452810075over18's\", 'U dun say so early hor... U c already then say...', \"Nah I don't think he goes to usf, he lives around here though\"]\n"
     ]
    }
   ],
   "source": [
    "label_list = parsed_data[0::2]\n",
    "msg_list = parsed_data[1::2]\n",
    "print(label_list[0:5])\n",
    "print(msg_list[0:5])"
   ]
  },
  {
   "cell_type": "code",
   "execution_count": 21,
   "id": "fb7726ca-2b53-4e8b-8c2b-0a1b9d5bea04",
   "metadata": {},
   "outputs": [],
   "source": [
    "import pandas as pd"
   ]
  },
  {
   "cell_type": "code",
   "execution_count": 22,
   "id": "581a03ec-ab4c-4db8-921b-e5d53bd81e79",
   "metadata": {},
   "outputs": [
    {
     "name": "stdout",
     "output_type": "stream",
     "text": [
      "5575\n"
     ]
    }
   ],
   "source": [
    "print(len(label_list))"
   ]
  },
  {
   "cell_type": "code",
   "execution_count": 23,
   "id": "b1637fc6-34a9-4508-9b6f-9459abb54d26",
   "metadata": {},
   "outputs": [
    {
     "name": "stdout",
     "output_type": "stream",
     "text": [
      "5574\n"
     ]
    }
   ],
   "source": [
    "print(len(msg_list))"
   ]
  },
  {
   "cell_type": "code",
   "execution_count": 24,
   "id": "5fec7e01-6382-4f7e-9c75-265869b80540",
   "metadata": {},
   "outputs": [
    {
     "name": "stdout",
     "output_type": "stream",
     "text": [
      "['ham', 'ham', '']\n"
     ]
    }
   ],
   "source": [
    "print(label_list[-3:])"
   ]
  },
  {
   "cell_type": "raw",
   "id": "00a2533e-1299-46f1-9a15-536e6e8f3a95",
   "metadata": {},
   "source": [
    "combined_df = pd.DataFrame({\n",
    "    'label' : label_list[:-1],\n",
    "    'sms' : msg_list\n",
    "})\n",
    "\n",
    "combined_df.head()"
   ]
  },
  {
   "cell_type": "markdown",
   "id": "f3f196a9-c5ef-4b5f-8d72-b59b83a7378e",
   "metadata": {},
   "source": [
    "# Method 2 - Read CSV()"
   ]
  },
  {
   "cell_type": "code",
   "execution_count": 26,
   "id": "c0fc51ca-2654-4ec6-ba14-a3b1333a75dd",
   "metadata": {},
   "outputs": [
    {
     "data": {
      "text/html": [
       "<div>\n",
       "<style scoped>\n",
       "    .dataframe tbody tr th:only-of-type {\n",
       "        vertical-align: middle;\n",
       "    }\n",
       "\n",
       "    .dataframe tbody tr th {\n",
       "        vertical-align: top;\n",
       "    }\n",
       "\n",
       "    .dataframe thead th {\n",
       "        text-align: right;\n",
       "    }\n",
       "</style>\n",
       "<table border=\"1\" class=\"dataframe\">\n",
       "  <thead>\n",
       "    <tr style=\"text-align: right;\">\n",
       "      <th></th>\n",
       "      <th>0</th>\n",
       "      <th>1</th>\n",
       "    </tr>\n",
       "  </thead>\n",
       "  <tbody>\n",
       "    <tr>\n",
       "      <th>0</th>\n",
       "      <td>ham</td>\n",
       "      <td>Go until jurong point, crazy.. Available only ...</td>\n",
       "    </tr>\n",
       "    <tr>\n",
       "      <th>1</th>\n",
       "      <td>ham</td>\n",
       "      <td>Ok lar... Joking wif u oni...</td>\n",
       "    </tr>\n",
       "    <tr>\n",
       "      <th>2</th>\n",
       "      <td>spam</td>\n",
       "      <td>Free entry in 2 a wkly comp to win FA Cup fina...</td>\n",
       "    </tr>\n",
       "    <tr>\n",
       "      <th>3</th>\n",
       "      <td>ham</td>\n",
       "      <td>U dun say so early hor... U c already then say...</td>\n",
       "    </tr>\n",
       "    <tr>\n",
       "      <th>4</th>\n",
       "      <td>ham</td>\n",
       "      <td>Nah I don't think he goes to usf, he lives aro...</td>\n",
       "    </tr>\n",
       "  </tbody>\n",
       "</table>\n",
       "</div>"
      ],
      "text/plain": [
       "      0                                                  1\n",
       "0   ham  Go until jurong point, crazy.. Available only ...\n",
       "1   ham                      Ok lar... Joking wif u oni...\n",
       "2  spam  Free entry in 2 a wkly comp to win FA Cup fina...\n",
       "3   ham  U dun say so early hor... U c already then say...\n",
       "4   ham  Nah I don't think he goes to usf, he lives aro..."
      ]
     },
     "execution_count": 26,
     "metadata": {},
     "output_type": "execute_result"
    }
   ],
   "source": [
    "dataset = pd.read_csv('SMSSpamCollection',sep = \"\\t\" , header = None)\n",
    "dataset.head()"
   ]
  },
  {
   "cell_type": "markdown",
   "id": "a6523e80-239d-4677-aa09-5f831e09bd9c",
   "metadata": {},
   "source": [
    "# Exploring Dataset"
   ]
  },
  {
   "cell_type": "code",
   "execution_count": 27,
   "id": "c466dec6-1417-4bc7-bdfa-72d997fc0042",
   "metadata": {},
   "outputs": [],
   "source": [
    "#Read the dataset"
   ]
  },
  {
   "cell_type": "code",
   "execution_count": 30,
   "id": "5e48c789-faa5-499f-9ddf-ceddc4c78ae6",
   "metadata": {},
   "outputs": [],
   "source": [
    "dataset = pd.read_csv('SMSSpamCollection',sep = \"\\t\" , header = None)\n",
    "\n",
    "dataset.columns=['label','sms']"
   ]
  },
  {
   "cell_type": "code",
   "execution_count": 31,
   "id": "d5b94c0b-0d51-48d8-bde9-d700ceaf53ad",
   "metadata": {},
   "outputs": [
    {
     "data": {
      "text/html": [
       "<div>\n",
       "<style scoped>\n",
       "    .dataframe tbody tr th:only-of-type {\n",
       "        vertical-align: middle;\n",
       "    }\n",
       "\n",
       "    .dataframe tbody tr th {\n",
       "        vertical-align: top;\n",
       "    }\n",
       "\n",
       "    .dataframe thead th {\n",
       "        text-align: right;\n",
       "    }\n",
       "</style>\n",
       "<table border=\"1\" class=\"dataframe\">\n",
       "  <thead>\n",
       "    <tr style=\"text-align: right;\">\n",
       "      <th></th>\n",
       "      <th>label</th>\n",
       "      <th>sms</th>\n",
       "    </tr>\n",
       "  </thead>\n",
       "  <tbody>\n",
       "    <tr>\n",
       "      <th>0</th>\n",
       "      <td>ham</td>\n",
       "      <td>Go until jurong point, crazy.. Available only ...</td>\n",
       "    </tr>\n",
       "    <tr>\n",
       "      <th>1</th>\n",
       "      <td>ham</td>\n",
       "      <td>Ok lar... Joking wif u oni...</td>\n",
       "    </tr>\n",
       "    <tr>\n",
       "      <th>2</th>\n",
       "      <td>spam</td>\n",
       "      <td>Free entry in 2 a wkly comp to win FA Cup fina...</td>\n",
       "    </tr>\n",
       "    <tr>\n",
       "      <th>3</th>\n",
       "      <td>ham</td>\n",
       "      <td>U dun say so early hor... U c already then say...</td>\n",
       "    </tr>\n",
       "    <tr>\n",
       "      <th>4</th>\n",
       "      <td>ham</td>\n",
       "      <td>Nah I don't think he goes to usf, he lives aro...</td>\n",
       "    </tr>\n",
       "  </tbody>\n",
       "</table>\n",
       "</div>"
      ],
      "text/plain": [
       "  label                                                sms\n",
       "0   ham  Go until jurong point, crazy.. Available only ...\n",
       "1   ham                      Ok lar... Joking wif u oni...\n",
       "2  spam  Free entry in 2 a wkly comp to win FA Cup fina...\n",
       "3   ham  U dun say so early hor... U c already then say...\n",
       "4   ham  Nah I don't think he goes to usf, he lives aro..."
      ]
     },
     "execution_count": 31,
     "metadata": {},
     "output_type": "execute_result"
    }
   ],
   "source": [
    "dataset.head()"
   ]
  },
  {
   "cell_type": "code",
   "execution_count": 32,
   "id": "96bd92d0-0744-42ed-884e-d3c71f6fbdb5",
   "metadata": {},
   "outputs": [],
   "source": [
    "#Shape of Data"
   ]
  },
  {
   "cell_type": "code",
   "execution_count": 34,
   "id": "bc12e1c0-51ec-4d99-bbe3-02195e2aff24",
   "metadata": {},
   "outputs": [
    {
     "name": "stdout",
     "output_type": "stream",
     "text": [
      "The dataset has 5572 rows and 2 columns\n"
     ]
    }
   ],
   "source": [
    "print(f\"The dataset has {len(dataset)} rows and {len(dataset.columns)} columns\")"
   ]
  },
  {
   "cell_type": "code",
   "execution_count": 35,
   "id": "a9d460b1-f943-4eb7-9a49-3bcfc0d45986",
   "metadata": {},
   "outputs": [],
   "source": [
    "#ham/spam"
   ]
  },
  {
   "cell_type": "code",
   "execution_count": 37,
   "id": "abaf46a5-a0ee-402b-a9f4-808b4a258684",
   "metadata": {},
   "outputs": [
    {
     "name": "stdout",
     "output_type": "stream",
     "text": [
      "Ham = 4825\n",
      "Spam = 747\n"
     ]
    }
   ],
   "source": [
    "print(f\"Ham = {len(dataset[dataset[\"label\"] == \"ham\"])}\")\n",
    "print(f\"Spam = {len(dataset[dataset[\"label\"] == \"spam\"])}\")"
   ]
  },
  {
   "cell_type": "code",
   "execution_count": 38,
   "id": "a6dde1bc-b660-414a-82cd-e6ba3fbc9fd2",
   "metadata": {},
   "outputs": [],
   "source": [
    "# Missing Data Check"
   ]
  },
  {
   "cell_type": "code",
   "execution_count": 40,
   "id": "41353e5a-d0f5-4e15-8dd4-8acce68c2e47",
   "metadata": {},
   "outputs": [
    {
     "name": "stdout",
     "output_type": "stream",
     "text": [
      "Numbers of Missing Label: 0\n"
     ]
    }
   ],
   "source": [
    "print(f\"Numbers of Missing Label: {dataset['label'].isnull().sum()}\")"
   ]
  },
  {
   "cell_type": "code",
   "execution_count": 41,
   "id": "c7f9e6f6-1bad-465c-a9f0-193cabd599eb",
   "metadata": {},
   "outputs": [
    {
     "name": "stdout",
     "output_type": "stream",
     "text": [
      "Numbers of Missing Message: 0\n"
     ]
    }
   ],
   "source": [
    "print(f\"Numbers of Missing Message: {dataset['sms'].isnull().sum()}\")"
   ]
  },
  {
   "cell_type": "code",
   "execution_count": null,
   "id": "3248de3b-93cc-4165-9dc4-6422524622e5",
   "metadata": {},
   "outputs": [],
   "source": []
  }
 ],
 "metadata": {
  "kernelspec": {
   "display_name": "Python 3 (ipykernel)",
   "language": "python",
   "name": "python3"
  },
  "language_info": {
   "codemirror_mode": {
    "name": "ipython",
    "version": 3
   },
   "file_extension": ".py",
   "mimetype": "text/x-python",
   "name": "python",
   "nbconvert_exporter": "python",
   "pygments_lexer": "ipython3",
   "version": "3.13.2"
  }
 },
 "nbformat": 4,
 "nbformat_minor": 5
}
